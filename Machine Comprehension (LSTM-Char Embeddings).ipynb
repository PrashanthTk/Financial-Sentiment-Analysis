{
 "cells": [
  {
   "cell_type": "code",
   "execution_count": 1,
   "metadata": {
    "collapsed": false,
    "deletable": true,
    "editable": true
   },
   "outputs": [
    {
     "name": "stderr",
     "output_type": "stream",
     "text": [
      "Using TensorFlow backend.\n"
     ]
    }
   ],
   "source": [
    "import numpy as np\n",
    "import h5py\n",
    "\n",
    "from keras.models import Sequential\n",
    "from keras.layers import Embedding, Dropout, Dense, Activation\n",
    "from keras.layers import LSTM, Bidirectional, Merge, RepeatVector"
   ]
  },
  {
   "cell_type": "code",
   "execution_count": 2,
   "metadata": {
    "collapsed": true,
    "deletable": true,
    "editable": true
   },
   "outputs": [],
   "source": [
    "with h5py.File('context.h5', 'r') as hf:\n",
    "    context_array = hf['context'][:]\n",
    "with h5py.File('questions.h5', 'r') as hf:\n",
    "    question_array = hf['questions'][:]\n",
    "with h5py.File('answers.h5', 'r') as hf:\n",
    "    answer_array = hf['answers'][:]\n",
    "with h5py.File('begin.h5', 'r') as hf:\n",
    "    begin_span = hf['begin'][:]\n",
    "with h5py.File('end.h5', 'r') as hf:\n",
    "    end_span = hf['end'][:]"
   ]
  },
  {
   "cell_type": "code",
   "execution_count": 3,
   "metadata": {
    "collapsed": false,
    "deletable": true,
    "editable": true,
    "scrolled": true
   },
   "outputs": [
    {
     "name": "stdout",
     "output_type": "stream",
     "text": [
      "(87599, 1000)\n",
      "(87599, 100)\n",
      "(87599, 50)\n",
      "(87599,)\n",
      "(87599,)\n"
     ]
    }
   ],
   "source": [
    "print context_array.shape\n",
    "print question_array.shape\n",
    "print answer_array.shape\n",
    "print begin_span.shape\n",
    "print end_span.shape"
   ]
  },
  {
   "cell_type": "code",
   "execution_count": 4,
   "metadata": {
    "collapsed": true,
    "deletable": true,
    "editable": true
   },
   "outputs": [],
   "source": [
    "vocab_size = 37\n",
    "embedding_vector_length = 128\n",
    "max_span = 1000\n",
    "batch = 512"
   ]
  },
  {
   "cell_type": "code",
   "execution_count": 5,
   "metadata": {
    "collapsed": false,
    "deletable": true,
    "editable": true
   },
   "outputs": [],
   "source": [
    "context_model = Sequential()\n",
    "context_model.add(Embedding(input_dim=vocab_size,\n",
    "                    output_dim=embedding_vector_length, input_length=1000))\n",
    "context_model.add(Bidirectional(LSTM(256, implementation=2), merge_mode='mul'))\n",
    "context_model.add(Dropout(0.5))\n",
    "context_model.add(RepeatVector(10))"
   ]
  },
  {
   "cell_type": "code",
   "execution_count": 6,
   "metadata": {
    "collapsed": false,
    "deletable": true,
    "editable": true
   },
   "outputs": [],
   "source": [
    "ques_model = Sequential()\n",
    "ques_model.add(Embedding(input_dim=vocab_size,\n",
    "                        output_dim=embedding_vector_length, input_length=100))\n",
    "ques_model.add(Bidirectional(LSTM(256, implementation=2), merge_mode='mul'))\n",
    "ques_model.add(Dropout(0.5))\n",
    "ques_model.add(RepeatVector(10))"
   ]
  },
  {
   "cell_type": "code",
   "execution_count": null,
   "metadata": {
    "collapsed": false,
    "deletable": true,
    "editable": true,
    "scrolled": false
   },
   "outputs": [],
   "source": [
    "# Merge layers\n",
    "model = Sequential()\n",
    "model.add(Merge([context_model, ques_model], mode='mul'))\n",
    "model.add(Bidirectional(LSTM(256, implementation=2), merge_mode='mul'))\n",
    "model.add(Dropout(0.5))\n",
    "model.add(Dense(max_span))\n",
    "model.add(Activation('softmax'))\n",
    "\n",
    "model.compile(loss='sparse_categorical_crossentropy', optimizer='adam', \n",
    "             metrics=['accuracy'])\n",
    "model.summary()\n",
    "\n",
    "model_history = model.fit([context_array, question_array], begin_span,\n",
    "                         verbose=2, batch_size=batch, epochs=10)"
   ]
  },
  {
   "cell_type": "code",
   "execution_count": null,
   "metadata": {
    "collapsed": true,
    "deletable": true,
    "editable": true
   },
   "outputs": [],
   "source": []
  }
 ],
 "metadata": {
  "kernelspec": {
   "display_name": "Python 2",
   "language": "python",
   "name": "python2"
  },
  "language_info": {
   "codemirror_mode": {
    "name": "ipython",
    "version": 2
   },
   "file_extension": ".py",
   "mimetype": "text/x-python",
   "name": "python",
   "nbconvert_exporter": "python",
   "pygments_lexer": "ipython2",
   "version": "2.7.13"
  }
 },
 "nbformat": 4,
 "nbformat_minor": 2
}
